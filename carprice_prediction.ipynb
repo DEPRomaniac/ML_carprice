{
 "cells": [
  {
   "cell_type": "markdown",
   "id": "9532eabc",
   "metadata": {},
   "source": [
    "<h1 style = \"font-size: 30px; text-align: center;\">AI Computer Assignment 4</h1>\n",
    "<h2 style = \"font-size: 25px; text-align: center;\">ML</h2>\n",
    "<h2 style = \"font-size: 25px; text-align: center; color: #666\">Name: Sepehr Ahmadi</h2>\n",
    "<h2 style = \"font-size: 25px; text-align: center; color: #666\">Student Id: 810897031</h2>\n",
    "<h4 style=\"text-align: center\">Spring 1400</h4>"
   ]
  },
  {
   "cell_type": "code",
   "execution_count": 30,
   "id": "bdf365fa",
   "metadata": {
    "scrolled": true
   },
   "outputs": [
    {
     "data": {
      "text/html": [
       "<style>.text_cell .rendered_html * {direction: rtl; text-align: right;}</style>\n"
      ],
      "text/plain": [
       "<IPython.core.display.HTML object>"
      ]
     },
     "metadata": {},
     "output_type": "display_data"
    }
   ],
   "source": [
    "%%html\n",
    "<style>.text_cell .rendered_html * {direction: rtl; text-align: right;}</style>"
   ]
  },
  {
   "cell_type": "code",
   "execution_count": 1,
   "id": "4e63a892",
   "metadata": {},
   "outputs": [],
   "source": [
    "from __future__ import unicode_literals\n",
    "from hazm import *\n",
    "import numpy as np\n",
    "import pandas as pd\n",
    "import time\n",
    "import sklearn as sk"
   ]
  },
  {
   "cell_type": "markdown",
   "id": "46272806",
   "metadata": {},
   "source": [
    "## سوال ۱:\n",
    "این نمودار به ما اجازه میدهد که فیچرهای مهم را که در شناسایی کلاس قیمت میتواند بما کمک کند، را بیابیم\n",
    "و در فرایند \n",
    "classification\n",
    "از آنها استفاده کنیم.\n",
    "\n",
    "**کارهای انجام شده در preprocessing**:\n",
    "- در کتگوری مقادیر\n",
    "Nan\n",
    "با ۱ یعنی خودروی سبک عوض شده است.\n",
    "- در برند به \n",
    "Nan\n",
    "مقدار\n",
    "٬سایر٬\n",
    "داده شده است.\n",
    "- در\n",
    "mileage\n",
    "مقادیر\n",
    "Nan\n",
    "با میانگین ستون جایگزین شده اند.\n",
    "- از\n",
    "year\n",
    "مقادیر\n",
    "string\n",
    "با\n",
    "int\n",
    "جایگزین شدند.\n",
    "- دیتافریم اصلی به دو بخش \n",
    "test\n",
    "و\n",
    "train\n",
    "تقسیم شده است.\n",
    "-ستون های \n",
    "title\n",
    "و \n",
    "description\n",
    "با هم ترکیب شده و با استفاده از توابع کتابخانه هضم، نرمالیزه شده است.\n",
    "- متن های بدست آمده بوسیله\n",
    "CountVectorizer\n",
    "و\n",
    "tf-idf\n",
    "به فیچر تبدیل شده؛ به اینگونه که 30 پرتکرارترین کلمات هر کدام ستونی بخود اختصاص میدهند.\n",
    "سپس با دیتافریم \n",
    "train\n",
    "آنها را ترکیب میکنیم."
   ]
  },
  {
   "cell_type": "markdown",
   "id": "62f5edee",
   "metadata": {},
   "source": [
    "## سوال ۲:\n",
    "از روش\n",
    "label_encoding()\n",
    "برای\n",
    "brand\n",
    "و\n",
    "category\n",
    "استفاده کرده ام.\n",
    "\n",
    "با وجود اینکه روش\n",
    "one hot encoding\n",
    "بنظر میرسد برای داده هایی با مقادیر گسسته که مقدار لیبل شده آنها لزوما نشاندهنده برتری نسبت به لیبل دیگر نیست،\n",
    "بهتر میباشد،\n",
    "اما در اینجا به علت تعدد مقادیر برند(۲۵)، در صورت استفاده از این روش نیاز به اضافه کردن ۲۵ ستون دیگر داریم.\n",
    "اینکار موجب سنگین شده دیتافریم و بزرگ شدن بیش از حد پردازش شود که ممکن است ما را با ارور مموری مواجه کند.\n",
    "همچنین مشاهده شد که با استفاده از این روش تغییر قابل ملاحظه ای در\n",
    "rmse\n",
    "بدست آمده ایجاد نشده.\n",
    "البته\n",
    "linear Regression\n",
    "نسبتا بیشتر از بقیه روشها پیشرفت میکند.\n",
    "\n",
    "از طرف دیگر، کتگوری تنها تشکیل شده از دو مقدار است. یعنی به نوعی باینری است و استفاده از \n",
    "one hot\n",
    "معنای چندانی به داده ها اضافه نمیکند."
   ]
  },
  {
   "cell_type": "markdown",
   "id": "f069f06b",
   "metadata": {},
   "source": [
    "## سوال ۳:\n",
    "در این پیاده سازی از \n",
    "tf-idf\n",
    "استفاده شده است.\n",
    "تعداد کلمات استخراج شده بعنوان فیچر نیز ۳۰تا در نظر گرفته شده است که عملکرد مناسبی از این تعداد مشاهده شده است.\n",
    "\n",
    "tf-idf\n",
    "نتیجه نسبتا بهتری تسبت به\n",
    "countVectorizer\n",
    "داشته است.\n",
    "با وجود اینکه کلمات پر تکرار اکثرا با استفاده از\n",
    "stopwordها\n",
    "حذف شده اند، اما این روش این فرایند را کامل کرده و همچنین داده های نرمالیزه شده به ما تحویل میدهد.\n",
    "\n",
    "تعداد کلمات ۳۰تا نتیجه مطلوبتری داشته و بیشتر از این مقدار با وجود پیچیده تر کردن دیتافری،\n",
    "تاثیر چشمگیری در نتیجه هیچ یک از روش ها نداشته است.\n",
    "مقادیر کمتر هم موجب افت نتیجه شده بودند."
   ]
  },
  {
   "cell_type": "markdown",
   "id": "c82ada82",
   "metadata": {},
   "source": [
    "## سوال ۴:\n",
    "\n",
    "- روش ۱: حذف کردن ردیف داده\n",
    "- روش ۲: پر کردن آن با مقادیر میانه یا میانگین\n",
    "- روش ۳: پر کردن داده های دسته ای با پرتکرارترین دسته\n",
    "\n",
    "مقادیر حذف شده برای ستون قیمت را حذف میکنیم. چرا که اطلاعات موجود در ستونهای دیگر ردیفهای حذف شده به ما کمکی در مشخص کردن خود قیمت که از ردیف حذف شده نخواهد کرد.\n",
    "\n",
    "اما ستونهای دیگر که مقادیر حذف شده داشتند، سعی بر جایگزین کردن آنها بود، چرا که از ستونهای دیگر میتوان اطلاعاتی برای کامل کردن مدل \n",
    "classification\n",
    "بدست آورد:\n",
    "- برند: با ٬سایر٬ پر شده است.\n",
    "- کتگوری: با ۱ یا\n",
    "'light'\n",
    "جایگزین کردیم چرا که اکثر خودروها سبکن و اختمال درست بودن بیشتر است.\n",
    "-  mileage: با میانگین ستون پر شده است."
   ]
  },
  {
   "cell_type": "markdown",
   "id": "5f28cf6e",
   "metadata": {},
   "source": [
    "## سوال ۵:\n",
    "داده ها بصورت ۹۰٪ برای \n",
    "train\n",
    "به ۱۰٪ برای تست تقسیم شده اند. چرا که طی آزمون و خطا، مطلوبترین نتیجه را ایتن تقسیم بندی داشته است.\n",
    "\n",
    "برای ۹۸٪، \n",
    "rmse\n",
    "برای \n",
    "linear regression\n",
    "خطای بیشتری (حدود یک میلیون) داشته است.\n",
    "\n",
    "برای ۴۰٪ نیز همین نتیجه مشاهده شد.\n",
    "\n",
    "این پدیده ها به ترتیب \n",
    "overfitting\n",
    "و\n",
    "underfitting\n",
    "نام دارند.\n",
    "\n",
    "overfitting\n",
    "زمانی رخ میدهد که داده های یادگیری طوری زیاد باشند که مدل بتواند برای همان داده ها فقط پاسخ مناسب داشته باشد.\n",
    "\n",
    "underfitting\n",
    "برعکس است و نمیتواند برای داده های یادگیری هم پاسخ مطلوب داشته باشد."
   ]
  },
  {
   "cell_type": "markdown",
   "id": "392f0473",
   "metadata": {},
   "source": [
    "## سوال ۶:\n",
    "در حالت اول، به یک مقدار ثابت میل میکند (حدود ۲۴ میلیون).\n",
    "در حالت دوم خطا بسیار زیاد میشود.\n",
    "\n",
    "با تحلیل نمودار مشاهده میشود که هر چقدر عمق بیشتر شود لزوما مدل بهتری بدست نمی آوریم و مقدار مطلوب لازم است که جستوجو شود.\n",
    "در اینجا حدود ۱۲ میباشد."
   ]
  },
  {
   "cell_type": "markdown",
   "id": "4778521d",
   "metadata": {},
   "source": [
    "## سوال ۷:\n",
    "نتیجه مدل \n",
    "Random Forest\n",
    "بسیار مطلوبتر است.\n",
    "\n",
    "بنظر میرسد که \n",
    "variance\n",
    "در\n",
    "decision tree\n",
    "بیشتر است.\n",
    " چرا که تعداد فیچرها در مدل زیاد است و \n",
    " decision tree\n",
    " همه ی آنها را باید در نظر بگیر.\n",
    " \n",
    " در حالی که در\n",
    " Random Forest\n",
    " چون فیچرها چند سری محدود و رندم انتخاب شده و مقایسه میشوند،\n",
    " در نتیجه مدل واریانس کمتر و \n",
    " bias\n",
    " بیشتر خواهد داشت.\n",
    " در اینجا هم چون به یک\n",
    " compromise\n",
    " نسبی در بین این دو در این مدل رسیدیم، بنابراین طبق پیش بینی عملکرد این مدل بهتر است."
   ]
  },
  {
   "cell_type": "code",
   "execution_count": 145,
   "id": "6f12f48e",
   "metadata": {},
   "outputs": [],
   "source": [
    "df = pd.read_csv('data/data/vehicles.csv')\n",
    "# df1.head(10)\n",
    "cat = {}\n",
    "words_dict = {}\n",
    "stop_words1 = ['.',',','«','»','(',')','،','[',']','{','}','-','','؛',':']\n",
    "stop_words2 = {stopword : 0 for stopword in stopwords_list()}\n",
    "\n",
    "df.drop(df[df['price'] == -1].index, inplace = True)\n",
    "le = sk.preprocessing.LabelEncoder()\n",
    "df['category'].fillna(1, inplace=True)\n",
    "df['brand'].fillna(\"سایر\", inplace=True)\n",
    "\n",
    "df['category'] = le.fit_transform(df['category'])\n",
    "df['brand'] = le.fit_transform(df['brand'])\n",
    "df['mileage'].fillna(round(df['mileage'].mean()), inplace=True)\n",
    "\n",
    "df['year'] = df['year'].replace({'<1366' : 1366})\n",
    "df['year'] = df['year'].astype(float)\n",
    "df['year'].fillna(round(df['year'].mean()), inplace=True)\n",
    "df['year'] = df['year'].astype(int)\n",
    "df.reset_index(inplace = True)\n",
    "df.drop('index', axis = 1,inplace = True)\n",
    "\n",
    "# df_train, df_test = sk.model_selection.train_test_split(df, test_size = 0.3, shuffle = False)\n",
    "tot_num_rows = len(df)\n",
    "split_row = round(0.9*tot_num_rows)\n",
    "df_train = df.iloc[:split_row,:]\n",
    "df_test = df.iloc[split_row+1:,:]\n",
    "df_test.index = np.arange(0, len(df_test))"
   ]
  },
  {
   "cell_type": "code",
   "execution_count": 146,
   "id": "7de26fd7",
   "metadata": {},
   "outputs": [],
   "source": [
    "normalizer = Normalizer()\n",
    "stemmer = Stemmer()\n",
    "\n",
    "df_train_desc = df_train['title']+ ' ' + df_train['description']\n",
    "\n",
    "normalizer = Normalizer()\n",
    "stemmer = Stemmer()\n",
    "lemmatizer = Lemmatizer()\n",
    "\n",
    "for i,data in df_train_desc.items():\n",
    "    title_str = normalizer.normalize(data)\n",
    "    title = word_tokenize(title_str)\n",
    "    str_out = \"\"\n",
    "    for word in title:\n",
    "        if word in stop_words1 or word in stop_words2:\n",
    "            continue\n",
    "        \n",
    "        stemmed_word = stemmer.stem(word)\n",
    "        if stemmed_word in stop_words1 or stemmed_word in stop_words2:\n",
    "            continue\n",
    "        \n",
    "        clean_word = lemmatizer.lemmatize(stemmed_word)\n",
    "        if clean_word in stop_words1 or clean_word in stop_words2:\n",
    "            continue\n",
    "        str_out += clean_word + \" \"\n",
    "    df_train_desc[i] = str_out\n",
    "        \n",
    "# df_train_desc\n"
   ]
  },
  {
   "cell_type": "code",
   "execution_count": 147,
   "id": "ab9fd6a2",
   "metadata": {},
   "outputs": [],
   "source": [
    "from sklearn.feature_extraction.text import (CountVectorizer, \n",
    "                                             TfidfVectorizer,\n",
    "                                             TfidfTransformer)\n",
    "\n",
    "vectorizer = CountVectorizer(ngram_range=(1, 1), max_features=30)\n",
    "count_vectorized = vectorizer.fit_transform(df_train_desc)\n",
    "tfidf_transformer = TfidfTransformer(smooth_idf=True, use_idf=True)\n",
    "vectorized = tfidf_transformer.fit_transform(count_vectorized)\n",
    "# vectorized = vectorizer.fit_transform(df_train_desc)\n",
    "df_desc = pd.DataFrame(vectorized.toarray(), \n",
    "            columns=vectorizer.get_feature_names())\n",
    "vocab = vectorizer.get_feature_names()\n",
    "# df_desc"
   ]
  },
  {
   "cell_type": "code",
   "execution_count": 148,
   "id": "536419dd",
   "metadata": {
    "scrolled": true
   },
   "outputs": [],
   "source": [
    "from sklearn.feature_selection import mutual_info_regression\n",
    "from sklearn.feature_extraction.text import (CountVectorizer, TfidfVectorizer, TfidfTransformer)\n",
    "X = df_train.drop(['price','created_at','description', 'title'], axis = 1)\n",
    "X = X.join(df_desc)\n",
    "y = df_train['price']"
   ]
  },
  {
   "cell_type": "code",
   "execution_count": 149,
   "id": "5db25f7c",
   "metadata": {
    "scrolled": true
   },
   "outputs": [],
   "source": [
    "mi = mutual_info_regression(X,y)\n",
    "# mi"
   ]
  },
  {
   "cell_type": "code",
   "execution_count": 150,
   "id": "5fb957ee",
   "metadata": {},
   "outputs": [],
   "source": [
    "mi = pd.Series(mi)\n",
    "mi.index = X.columns\n",
    "mi.sort_values(ascending = False, inplace=True)\n",
    "# mi[:15]\n",
    "# mi"
   ]
  },
  {
   "cell_type": "code",
   "execution_count": 151,
   "id": "31a5cd41",
   "metadata": {},
   "outputs": [
    {
     "data": {
      "image/png": "[encoded data removed]",
      "text/plain": [
       "<Figure size 1296x360 with 1 Axes>"
      ]
     },
     "metadata": {
      "needs_background": "light"
     },
     "output_type": "display_data"
    }
   ],
   "source": [
    "import matplotlib.pyplot as plt\n",
    "plt.title('Mutual information of features')\n",
    "mi.plot.bar(figsize=(18,5))\n",
    "plt.show()"
   ]
  },
  {
   "cell_type": "code",
   "execution_count": 152,
   "id": "19a454ff",
   "metadata": {},
   "outputs": [],
   "source": [
    "normalizer = Normalizer()\n",
    "stemmer = Stemmer()\n",
    "\n",
    "df_test_desc = df_test['title']+ ' ' + df_test['description']\n",
    "\n",
    "normalizer = Normalizer()\n",
    "stemmer = Stemmer()\n",
    "lemmatizer = Lemmatizer()\n",
    "\n",
    "for i,data in df_test_desc.items():\n",
    "    title_str = normalizer.normalize(data)\n",
    "    title = word_tokenize(title_str)\n",
    "    str_out = \"\"\n",
    "    for word in title:\n",
    "        if word in stop_words1 or word in stop_words2:\n",
    "            continue\n",
    "        \n",
    "        stemmed_word = stemmer.stem(word)\n",
    "        if stemmed_word in stop_words1 or stemmed_word in stop_words2:\n",
    "            continue\n",
    "        \n",
    "        clean_word = lemmatizer.lemmatize(stemmed_word)\n",
    "        if clean_word in stop_words1 or clean_word in stop_words2:\n",
    "            continue\n",
    "        str_out += clean_word + \" \"\n",
    "    df_test_desc[i] = str_out\n",
    "        \n",
    "# df_test_desc"
   ]
  },
  {
   "cell_type": "code",
   "execution_count": 153,
   "id": "0144e2c6",
   "metadata": {},
   "outputs": [],
   "source": [
    "vectorizer = CountVectorizer(ngram_range=(1, 1), max_features=20, vocabulary = vocab)\n",
    "count_vectorized = vectorizer.fit_transform(df_test_desc)\n",
    "tfidf_transformer = TfidfTransformer(smooth_idf=True, use_idf=True)\n",
    "vectorized = tfidf_transformer.fit_transform(count_vectorized)\n",
    "# vectorized = vectorizer.fit_transform(df_test_desc)\n",
    "df_test_desc = pd.DataFrame(vectorized.toarray(), \n",
    "            columns=vectorizer.get_feature_names())\n",
    "# df_test_desc"
   ]
  },
  {
   "cell_type": "code",
   "execution_count": 154,
   "id": "71cd641d",
   "metadata": {},
   "outputs": [],
   "source": [
    "X_test = df_test.drop(['price','created_at','description', 'title'], axis = 1)\n",
    "# X = X.drop(list(mi[10:].index), axis = 1)\n",
    "X_test = X_test.join(df_test_desc)\n",
    "# X_test = X_test.drop(mi[10:].index, axis = 1)\n",
    "y_test = df_test['price']"
   ]
  },
  {
   "cell_type": "code",
   "execution_count": 159,
   "id": "21514f71",
   "metadata": {},
   "outputs": [
    {
     "name": "stdout",
     "output_type": "stream",
     "text": [
      "RMSE is:  24913339.738561686\n",
      "MSE is:  620674496928996.9\n"
     ]
    }
   ],
   "source": [
    "############# KNN\n",
    "from sklearn.neighbors import KNeighborsClassifier\n",
    "from sklearn.metrics import mean_squared_error\n",
    "k = 10\n",
    "knn = KNeighborsClassifier(n_neighbors = 100, algorithm = 'kd_tree')\n",
    "knn.fit(X,y)\n",
    "y_pred_knn = knn.predict(X_test)\n",
    "rmse = mean_squared_error(y_test, y_pred_knn, squared = False)\n",
    "print('RMSE is: ', rmse)\n",
    "print('MSE is: ', rmse*rmse)"
   ]
  },
  {
   "cell_type": "code",
   "execution_count": 160,
   "id": "8fc2d7e2",
   "metadata": {},
   "outputs": [
    {
     "name": "stdout",
     "output_type": "stream",
     "text": [
      "RMSE is:  21234338.637318607\n",
      "MSE is:  450897137364321.9\n"
     ]
    }
   ],
   "source": [
    "#############Linear Regression\n",
    "from sklearn.linear_model import LinearRegression\n",
    "lm = LinearRegression()\n",
    "lm.fit(X, y)\n",
    "y_pred_lm = lm.predict(X_test)\n",
    "rmse = mean_squared_error(y_test, y_pred_lm, squared = False)\n",
    "print('RMSE is: ', rmse)\n",
    "print('MSE is: ', rmse*rmse)"
   ]
  },
  {
   "cell_type": "code",
   "execution_count": 170,
   "id": "9d27aad8",
   "metadata": {},
   "outputs": [
    {
     "name": "stdout",
     "output_type": "stream",
     "text": [
      "RMSE is:  17491328.143481884\n",
      "MSE is:  305946560222961.44\n"
     ]
    }
   ],
   "source": [
    "#############Decision Tree\n",
    "from sklearn.tree import DecisionTreeClassifier\n",
    "\n",
    "dt = DecisionTreeClassifier(max_depth = 12, min_samples_split = 10, criterion = \"entropy\")\n",
    "dt.fit(X,y)\n",
    "y_pred_dt = dt.predict(X_test)\n",
    "rmse = mean_squared_error(y_test, y_pred_dt, squared = False)\n",
    "print('RMSE is: ', rmse)\n",
    "print('MSE is: ', rmse*rmse)"
   ]
  },
  {
   "cell_type": "code",
   "execution_count": 172,
   "id": "fd12ca90",
   "metadata": {},
   "outputs": [],
   "source": [
    "from sklearn.tree import DecisionTreeClassifier\n",
    "rmse_dt = []\n",
    "mse_dt = []\n",
    "# count = 0\n",
    "for depth in range(3,25,3):\n",
    "    dt = DecisionTreeClassifier(max_depth = depth, min_samples_split = 10, criterion = \"entropy\")\n",
    "    dt.fit(X,y)\n",
    "    y_pred_dt = dt.predict(X_test)\n",
    "    rmse_dt.append(mean_squared_error(y_test, y_pred_dt, squared = False))\n",
    "    mse_dt.append(rmse_dt[count]*rmse_dt[count])\n"
   ]
  },
  {
   "cell_type": "code",
   "execution_count": 123,
   "id": "a3c40ca9",
   "metadata": {
    "scrolled": false
   },
   "outputs": [
    {
     "data": {
      "text/plain": [
       "[30567962.163294546,\n",
       " 26049653.563738585,\n",
       " 23567960.760341186,\n",
       " 21431390.13972565,\n",
       " 23331577.062319174,\n",
       " 24038221.60251945,\n",
       " 24276945.90037952,\n",
       " 24046109.485181447]"
      ]
     },
     "execution_count": 123,
     "metadata": {},
     "output_type": "execute_result"
    }
   ],
   "source": [
    "rmse_dt"
   ]
  },
  {
   "cell_type": "code",
   "execution_count": 125,
   "id": "38be82e9",
   "metadata": {},
   "outputs": [
    {
     "data": {
      "image/png": "[encoded data removed]",
      "text/plain": [
       "<Figure size 432x288 with 1 Axes>"
      ]
     },
     "metadata": {
      "needs_background": "light"
     },
     "output_type": "display_data"
    }
   ],
   "source": [
    "plt.plot(range(3,25,3), rmse_dt)\n",
    "plt.ylabel('RMSE')\n",
    "plt.xlabel('max_depth')\n",
    "plt.show()"
   ]
  },
  {
   "cell_type": "code",
   "execution_count": 131,
   "id": "55fdbbec",
   "metadata": {},
   "outputs": [
    {
     "data": {
      "image/png": "[encoded data removed]",
      "text/plain": [
       "<Figure size 432x288 with 1 Axes>"
      ]
     },
     "metadata": {
      "needs_background": "light"
     },
     "output_type": "display_data"
    }
   ],
   "source": [
    "mse_dt = [i*i for i in rmse_dt]\n",
    "plt.plot(range(3,25,3), mse_dt)\n",
    "plt.ylabel('MSE')\n",
    "plt.xlabel('max_depth')\n",
    "plt.show()"
   ]
  },
  {
   "cell_type": "code",
   "execution_count": 171,
   "id": "03bb621c",
   "metadata": {},
   "outputs": [
    {
     "name": "stdout",
     "output_type": "stream",
     "text": [
      "RMSE is:  11952547.759099707\n",
      "MSE is:  142863397933559.44\n"
     ]
    }
   ],
   "source": [
    "#############Random Forest\n",
    "from sklearn.preprocessing import StandardScaler\n",
    "from sklearn.ensemble import RandomForestRegressor\n",
    "# sc = StandardScaler()\n",
    "# X = sc.fit_transform(X)\n",
    "# X_test = sc.transform(X_test)\n",
    "regressor = RandomForestRegressor(n_estimators=50, max_depth = 12, min_samples_split = 10, \n",
    "                                  random_state = 0)\n",
    "regressor.fit(X, y)\n",
    "y_pred_rfg = regressor.predict(X_test)\n",
    "rmse = mean_squared_error(y_test, y_pred_rfg, squared = False)\n",
    "print('RMSE is: ', rmse)\n",
    "print('MSE is: ', rmse*rmse)"
   ]
  }
 ],
 "metadata": {
  "kernelspec": {
   "display_name": "Python 3",
   "language": "python",
   "name": "python3"
  },
  "language_info": {
   "codemirror_mode": {
    "name": "ipython",
    "version": 3
   },
   "file_extension": ".py",
   "mimetype": "text/x-python",
   "name": "python",
   "nbconvert_exporter": "python",
   "pygments_lexer": "ipython3",
   "version": "3.8.10"
  }
 },
 "nbformat": 4,
 "nbformat_minor": 5
}
